{
  "nbformat": 4,
  "nbformat_minor": 0,
  "metadata": {
    "colab": {
      "provenance": [],
      "authorship_tag": "ABX9TyNUTx+RRWtCvMDoQD5BdMyO",
      "include_colab_link": true
    },
    "kernelspec": {
      "name": "python3",
      "display_name": "Python 3"
    },
    "language_info": {
      "name": "python"
    }
  },
  "cells": [
    {
      "cell_type": "markdown",
      "metadata": {
        "id": "view-in-github",
        "colab_type": "text"
      },
      "source": [
        "<a href=\"https://colab.research.google.com/github/devansh2604/my-first-reposit/blob/main/assignment1(mini%20project%20practise).ipynb\" target=\"_parent\"><img src=\"https://colab.research.google.com/assets/colab-badge.svg\" alt=\"Open In Colab\"/></a>"
      ]
    },
    {
      "cell_type": "code",
      "execution_count": 71,
      "metadata": {
        "colab": {
          "base_uri": "https://localhost:8080/"
        },
        "id": "QmrHMzJSAZv6",
        "outputId": "977b6eaa-a467-4ff5-f38e-8e18bd0f36d4"
      },
      "outputs": [
        {
          "output_type": "stream",
          "name": "stdout",
          "text": [
            "[12, 13, 60, 50]\n",
            "[12, 13, 50, 60]\n",
            "[60, 50, 13, 12]\n",
            "13 found at 1\n",
            "4\n",
            "25\n",
            "110\n",
            "135\n",
            "[12, 13, 50, 60]\n",
            "[]\n"
          ]
        }
      ],
      "source": [
        "l=[11,12,13,14]\n",
        "l.append(60)\n",
        "l.append(50)\n",
        "del l[0],l[2]\n",
        "print(l)\n",
        "l.sort()\n",
        "print(l)\n",
        "print(l[::-1])\n",
        "for i in range(0,len(l)):\n",
        "  if l[i]==13:\n",
        "   print(f\"13 found at {i}\")\n",
        "  else:\n",
        "   continue\n",
        "print(len(l))\n",
        "sum=0\n",
        "summ=0\n",
        "for i in l:\n",
        "  if summ%2==0:\n",
        "   summ=summ+i\n",
        "  else:\n",
        "   sum=sum+i\n",
        "\n",
        "print(summ)\n",
        "print(sum)\n",
        "print(sum+summ)\n",
        "print(l)\n",
        "#write a programe to id prime in list\n",
        "\n",
        "l.clear()\n",
        "print(l)\n",
        "del l\n",
        "del sum\n",
        "del summ"
      ]
    },
    {
      "cell_type": "code",
      "source": [
        "D = {1:5.6, 2:7.8, 3:6.6, 4:8.7, 5:7.7}\n",
        "D[8] = 8.8        # Adds a new key-value pair: 8:8.8\n",
        "del D[2]          # Deletes the key 2\n",
        "print(6 in D)\n",
        "print(len(D))     # Checks if key 6 exists in the dictionary     # Number of key-value pairs\n",
        "print(sum(D.values()))  # Sum of all values\n",
        "del D\n"
      ],
      "metadata": {
        "id": "k0V0jV6yGho3",
        "colab": {
          "base_uri": "https://localhost:8080/"
        },
        "outputId": "ff8b1702-e4b0-4838-8f6d-5d7dd9e5e766"
      },
      "execution_count": 1,
      "outputs": [
        {
          "output_type": "stream",
          "name": "stdout",
          "text": [
            "False\n",
            "5\n",
            "37.4\n"
          ]
        }
      ]
    },
    {
      "cell_type": "code",
      "source": [
        "s1={10,20,30,40,50,60}\n",
        "s2={40,50,60,70,80,90}\n",
        "s1.add(55)\n",
        "s2.add(66)\n",
        "s1.remove(10)\n",
        "s1.remove(30)\n",
        "print(40 in s1)\n",
        "print(s1.union(s2))\n",
        "print(s1.intersection(s2))\n",
        "print(s1-s2)"
      ],
      "metadata": {
        "colab": {
          "base_uri": "https://localhost:8080/"
        },
        "id": "5sb2JMectOwe",
        "outputId": "c53288be-be83-4472-fe89-585b1e9ca7d0"
      },
      "execution_count": 9,
      "outputs": [
        {
          "output_type": "stream",
          "name": "stdout",
          "text": [
            "True\n",
            "{66, 70, 40, 80, 50, 20, 55, 90, 60}\n",
            "{40, 50, 60}\n",
            "{20, 55}\n"
          ]
        }
      ]
    },
    {
      "cell_type": "code",
      "source": [
        "import random as r\n",
        "import string as s\n",
        "print(s.ascii_letters)\n",
        "a=r.sample(s.ascii_letters,6)\n",
        "aa=\"\".join(a)\n",
        "a1=r.sample(s.ascii_letters,7)\n",
        "a1a=\"\".join(a1)\n",
        "a2=r.sample(s.ascii_letters,8)\n",
        "a2a=\"\".join(a2)\n",
        "z=r.choice([aa,a1a,a2a])\n",
        "print(z)\n",
        "\n",
        "\n"
      ],
      "metadata": {
        "colab": {
          "base_uri": "https://localhost:8080/"
        },
        "id": "StcqfJ_ovFP9",
        "outputId": "b2ca648d-ea01-4865-8b2e-a3999a732826"
      },
      "execution_count": 30,
      "outputs": [
        {
          "output_type": "stream",
          "name": "stdout",
          "text": [
            "abcdefghijklmnopqrstuvwxyzABCDEFGHIJKLMNOPQRSTUVWXYZ\n",
            "rfCLPvha\n"
          ]
        }
      ]
    },
    {
      "cell_type": "code",
      "source": [
        "#600 and 800\n",
        "l1=[]\n",
        "l2=[]\n",
        "for k in range(600,801):\n",
        "  for i in range(2,k):\n",
        "    if k%i==0:\n",
        "     a=1\n",
        "     break\n",
        "    else:\n",
        "     a=0\n",
        "  if a==1:\n",
        "   l1.append(k)\n",
        "  else:\n",
        "   l2.append(k)\n",
        "\n",
        "print(\"not prime\",l1)\n",
        "print(\"prime\",l2)"
      ],
      "metadata": {
        "colab": {
          "base_uri": "https://localhost:8080/"
        },
        "id": "gX4uXE-CyK6L",
        "outputId": "3e8a6fb7-3b98-474e-efdf-929823b192e7"
      },
      "execution_count": 40,
      "outputs": [
        {
          "output_type": "stream",
          "name": "stdout",
          "text": [
            "not prime [600, 602, 603, 604, 605, 606, 608, 609, 610, 611, 612, 614, 615, 616, 618, 620, 621, 622, 623, 624, 625, 626, 627, 628, 629, 630, 632, 633, 634, 635, 636, 637, 638, 639, 640, 642, 644, 645, 646, 648, 649, 650, 651, 652, 654, 655, 656, 657, 658, 660, 662, 663, 664, 665, 666, 667, 668, 669, 670, 671, 672, 674, 675, 676, 678, 679, 680, 681, 682, 684, 685, 686, 687, 688, 689, 690, 692, 693, 694, 695, 696, 697, 698, 699, 700, 702, 703, 704, 705, 706, 707, 708, 710, 711, 712, 713, 714, 715, 716, 717, 718, 720, 721, 722, 723, 724, 725, 726, 728, 729, 730, 731, 732, 734, 735, 736, 737, 738, 740, 741, 742, 744, 745, 746, 747, 748, 749, 750, 752, 753, 754, 755, 756, 758, 759, 760, 762, 763, 764, 765, 766, 767, 768, 770, 771, 772, 774, 775, 776, 777, 778, 779, 780, 781, 782, 783, 784, 785, 786, 788, 789, 790, 791, 792, 793, 794, 795, 796, 798, 799, 800]\n",
            "prime [601, 607, 613, 617, 619, 631, 641, 643, 647, 653, 659, 661, 673, 677, 683, 691, 701, 709, 719, 727, 733, 739, 743, 751, 757, 761, 769, 773, 787, 797]\n"
          ]
        }
      ]
    },
    {
      "cell_type": "code",
      "source": [
        "for n in range(101,1000):\n",
        "  if n%7==0 and n%9==0:\n",
        "    print(f\"{n}\")\n",
        "  else:\n",
        "    continue\n"
      ],
      "metadata": {
        "colab": {
          "base_uri": "https://localhost:8080/"
        },
        "id": "vxY1pBQU3OLK",
        "outputId": "9ae7b8d1-bdf7-46cc-c960-3a41bfd8b574"
      },
      "execution_count": 41,
      "outputs": [
        {
          "output_type": "stream",
          "name": "stdout",
          "text": [
            "126\n",
            "189\n",
            "252\n",
            "315\n",
            "378\n",
            "441\n",
            "504\n",
            "567\n",
            "630\n",
            "693\n",
            "756\n",
            "819\n",
            "882\n",
            "945\n"
          ]
        }
      ]
    },
    {
      "cell_type": "code",
      "source": [
        "import random as r\n",
        "import string as s\n",
        "\n",
        "l1=r.sample(range(11,31),10)\n",
        "l2=r.sample(range(11,31),10)\n",
        "print(l1)\n",
        "print(l2)\n",
        "s1=set(l1)\n",
        "s2=set(l2)\n",
        "common=s1.intersection(s2)\n",
        "common=list(common)\n",
        "print(common)\n",
        "uniqueinl1=s1-s2\n",
        "uniqueinl2=s2-s1\n",
        "uniqueinl1=list(uniqueinl1)\n",
        "uniqueinl2=list(uniqueinl2)\n",
        "print(uniqueinl1)\n",
        "print(uniqueinl2)\n",
        "print(max(l1))\n",
        "print(max(l2))\n",
        "print(sum(l1+l2))"
      ],
      "metadata": {
        "colab": {
          "base_uri": "https://localhost:8080/"
        },
        "id": "WH3EfZ1AyoBI",
        "outputId": "952777c9-6fb3-4c1e-c51b-7abd322e0b46"
      },
      "execution_count": 58,
      "outputs": [
        {
          "output_type": "stream",
          "name": "stdout",
          "text": [
            "[13, 26, 30, 21, 20, 17, 15, 12, 14, 19]\n",
            "[25, 18, 20, 11, 12, 30, 26, 13, 29, 28]\n",
            "[12, 13, 20, 26, 30]\n",
            "[14, 15, 17, 19, 21]\n",
            "[11, 18, 25, 28, 29]\n",
            "30\n",
            "30\n",
            "399\n"
          ]
        }
      ]
    },
    {
      "cell_type": "code",
      "source": [
        "import random as r\n",
        "import string as s\n",
        "l=[]\n",
        "for i in range(101,900):\n",
        "  l.append(i)\n",
        "a=r.sample(l,100)\n",
        "print(a)\n",
        "for i in a:\n",
        "  if i%2==0:\n",
        "    print(f\"{i} is even\")\n",
        "  else:\n",
        "    print(f\"{i} is odd\")"
      ],
      "metadata": {
        "colab": {
          "base_uri": "https://localhost:8080/"
        },
        "id": "Y8qQHDXZ6lu5",
        "outputId": "90a7d5e8-5d7a-4e62-8287-2c1217e8d195"
      },
      "execution_count": 68,
      "outputs": [
        {
          "output_type": "stream",
          "name": "stdout",
          "text": [
            "[584, 527, 459, 460, 662, 159, 326, 777, 286, 713, 365, 672, 728, 402, 529, 262, 430, 303, 246, 299, 763, 607, 144, 377, 885, 238, 569, 347, 488, 617, 193, 183, 476, 442, 464, 645, 440, 512, 564, 884, 558, 704, 673, 542, 466, 415, 625, 784, 604, 378, 456, 817, 399, 887, 681, 877, 507, 493, 516, 463, 682, 865, 253, 833, 896, 483, 757, 764, 427, 566, 827, 856, 177, 562, 382, 841, 131, 203, 568, 873, 359, 840, 726, 353, 815, 848, 614, 170, 571, 247, 813, 788, 760, 432, 811, 613, 496, 118, 425, 787]\n",
            "584 is even\n",
            "527 is odd\n",
            "459 is odd\n",
            "460 is even\n",
            "662 is even\n",
            "159 is odd\n",
            "326 is even\n",
            "777 is odd\n",
            "286 is even\n",
            "713 is odd\n",
            "365 is odd\n",
            "672 is even\n",
            "728 is even\n",
            "402 is even\n",
            "529 is odd\n",
            "262 is even\n",
            "430 is even\n",
            "303 is odd\n",
            "246 is even\n",
            "299 is odd\n",
            "763 is odd\n",
            "607 is odd\n",
            "144 is even\n",
            "377 is odd\n",
            "885 is odd\n",
            "238 is even\n",
            "569 is odd\n",
            "347 is odd\n",
            "488 is even\n",
            "617 is odd\n",
            "193 is odd\n",
            "183 is odd\n",
            "476 is even\n",
            "442 is even\n",
            "464 is even\n",
            "645 is odd\n",
            "440 is even\n",
            "512 is even\n",
            "564 is even\n",
            "884 is even\n",
            "558 is even\n",
            "704 is even\n",
            "673 is odd\n",
            "542 is even\n",
            "466 is even\n",
            "415 is odd\n",
            "625 is odd\n",
            "784 is even\n",
            "604 is even\n",
            "378 is even\n",
            "456 is even\n",
            "817 is odd\n",
            "399 is odd\n",
            "887 is odd\n",
            "681 is odd\n",
            "877 is odd\n",
            "507 is odd\n",
            "493 is odd\n",
            "516 is even\n",
            "463 is odd\n",
            "682 is even\n",
            "865 is odd\n",
            "253 is odd\n",
            "833 is odd\n",
            "896 is even\n",
            "483 is odd\n",
            "757 is odd\n",
            "764 is even\n",
            "427 is odd\n",
            "566 is even\n",
            "827 is odd\n",
            "856 is even\n",
            "177 is odd\n",
            "562 is even\n",
            "382 is even\n",
            "841 is odd\n",
            "131 is odd\n",
            "203 is odd\n",
            "568 is even\n",
            "873 is odd\n",
            "359 is odd\n",
            "840 is even\n",
            "726 is even\n",
            "353 is odd\n",
            "815 is odd\n",
            "848 is even\n",
            "614 is even\n",
            "170 is even\n",
            "571 is odd\n",
            "247 is odd\n",
            "813 is odd\n",
            "788 is even\n",
            "760 is even\n",
            "432 is even\n",
            "811 is odd\n",
            "613 is odd\n",
            "496 is even\n",
            "118 is even\n",
            "425 is odd\n",
            "787 is odd\n"
          ]
        }
      ]
    },
    {
      "cell_type": "code",
      "source": [
        "D = {1: \"One\", 2: \"Two\", 3: \"Three\", 4: \"Four\", 5: \"Five\"}\n",
        "f=open(\"devansh.txt\",\"w\")\n",
        "for keys,values in D.items():\n",
        "  f.write(f\"{keys},{values}\\n\")\n",
        "f.close()"
      ],
      "metadata": {
        "id": "lW5rXPKp8nu2"
      },
      "execution_count": 77,
      "outputs": []
    },
    {
      "cell_type": "code",
      "source": [
        "L = [\"One\", \"Two\", \"Three\", \"Four\", \"Five\"]\n",
        "f=open(\"dd.txt\",\"w\")\n",
        "for i in L:\n",
        "    f.write(f\"{i}, {len(i)}\")\n",
        "f.close\n"
      ],
      "metadata": {
        "colab": {
          "base_uri": "https://localhost:8080/"
        },
        "id": "OARcNWWK6psA",
        "outputId": "c293b254-3103-4470-f26d-9b400a399e44"
      },
      "execution_count": 87,
      "outputs": [
        {
          "output_type": "execute_result",
          "data": {
            "text/plain": [
              "<function TextIOWrapper.close()>"
            ]
          },
          "metadata": {},
          "execution_count": 87
        }
      ]
    },
    {
      "cell_type": "code",
      "source": [
        "import random as r\n",
        "import string as s\n",
        "print(s.ascii_letters)\n",
        "a=r.sample(s.ascii_letters,11)\n",
        "aa=\"\".join(a)\n",
        "a1=r.sample(s.ascii_letters,12)\n",
        "a1a=\"\".join(a1)\n",
        "a2=r.sample(s.ascii_letters,13)\n",
        "a2a=\"\".join(a2)\n",
        "a09=r.sample(s.ascii_letters,14)\n",
        "a099=\"\".join(a09)\n",
        "\n",
        "for i in range(1,101):\n",
        "  print(r.choice([aa,a1a,a2a,a099])\n",
        ")\n"
      ],
      "metadata": {
        "colab": {
          "base_uri": "https://localhost:8080/"
        },
        "id": "O4v3IX02_sVI",
        "outputId": "b64ef351-b652-4c4b-eb5d-35fb1df7c29f"
      },
      "execution_count": 92,
      "outputs": [
        {
          "output_type": "stream",
          "name": "stdout",
          "text": [
            "abcdefghijklmnopqrstuvwxyzABCDEFGHIJKLMNOPQRSTUVWXYZ\n",
            "yquroThSNKDL\n",
            "qGQDpdPjbomnc\n",
            "yquroThSNKDL\n",
            "qGQDpdPjbomnc\n",
            "siFDTrMKgzJ\n",
            "DxOqZrTWfbHspU\n",
            "DxOqZrTWfbHspU\n",
            "qGQDpdPjbomnc\n",
            "qGQDpdPjbomnc\n",
            "DxOqZrTWfbHspU\n",
            "siFDTrMKgzJ\n",
            "qGQDpdPjbomnc\n",
            "yquroThSNKDL\n",
            "DxOqZrTWfbHspU\n",
            "DxOqZrTWfbHspU\n",
            "siFDTrMKgzJ\n",
            "DxOqZrTWfbHspU\n",
            "qGQDpdPjbomnc\n",
            "DxOqZrTWfbHspU\n",
            "DxOqZrTWfbHspU\n",
            "DxOqZrTWfbHspU\n",
            "qGQDpdPjbomnc\n",
            "yquroThSNKDL\n",
            "yquroThSNKDL\n",
            "siFDTrMKgzJ\n",
            "siFDTrMKgzJ\n",
            "yquroThSNKDL\n",
            "siFDTrMKgzJ\n",
            "DxOqZrTWfbHspU\n",
            "DxOqZrTWfbHspU\n",
            "DxOqZrTWfbHspU\n",
            "DxOqZrTWfbHspU\n",
            "siFDTrMKgzJ\n",
            "siFDTrMKgzJ\n",
            "siFDTrMKgzJ\n",
            "siFDTrMKgzJ\n",
            "DxOqZrTWfbHspU\n",
            "yquroThSNKDL\n",
            "DxOqZrTWfbHspU\n",
            "yquroThSNKDL\n",
            "yquroThSNKDL\n",
            "yquroThSNKDL\n",
            "yquroThSNKDL\n",
            "siFDTrMKgzJ\n",
            "yquroThSNKDL\n",
            "DxOqZrTWfbHspU\n",
            "yquroThSNKDL\n",
            "siFDTrMKgzJ\n",
            "yquroThSNKDL\n",
            "siFDTrMKgzJ\n",
            "yquroThSNKDL\n",
            "siFDTrMKgzJ\n",
            "DxOqZrTWfbHspU\n",
            "DxOqZrTWfbHspU\n",
            "siFDTrMKgzJ\n",
            "yquroThSNKDL\n",
            "DxOqZrTWfbHspU\n",
            "siFDTrMKgzJ\n",
            "yquroThSNKDL\n",
            "DxOqZrTWfbHspU\n",
            "qGQDpdPjbomnc\n",
            "DxOqZrTWfbHspU\n",
            "DxOqZrTWfbHspU\n",
            "DxOqZrTWfbHspU\n",
            "yquroThSNKDL\n",
            "qGQDpdPjbomnc\n",
            "DxOqZrTWfbHspU\n",
            "yquroThSNKDL\n",
            "yquroThSNKDL\n",
            "DxOqZrTWfbHspU\n",
            "siFDTrMKgzJ\n",
            "yquroThSNKDL\n",
            "qGQDpdPjbomnc\n",
            "yquroThSNKDL\n",
            "qGQDpdPjbomnc\n",
            "qGQDpdPjbomnc\n",
            "DxOqZrTWfbHspU\n",
            "yquroThSNKDL\n",
            "qGQDpdPjbomnc\n",
            "qGQDpdPjbomnc\n",
            "siFDTrMKgzJ\n",
            "DxOqZrTWfbHspU\n",
            "qGQDpdPjbomnc\n",
            "DxOqZrTWfbHspU\n",
            "yquroThSNKDL\n",
            "yquroThSNKDL\n",
            "DxOqZrTWfbHspU\n",
            "qGQDpdPjbomnc\n",
            "DxOqZrTWfbHspU\n",
            "qGQDpdPjbomnc\n",
            "yquroThSNKDL\n",
            "DxOqZrTWfbHspU\n",
            "DxOqZrTWfbHspU\n",
            "yquroThSNKDL\n",
            "yquroThSNKDL\n",
            "DxOqZrTWfbHspU\n",
            "DxOqZrTWfbHspU\n",
            "DxOqZrTWfbHspU\n",
            "qGQDpdPjbomnc\n",
            "qGQDpdPjbomnc\n"
          ]
        }
      ]
    },
    {
      "cell_type": "code",
      "source": [
        "l1=[]\n",
        "l2=[]\n",
        "for k in range(600,801):\n",
        "  for i in range(2,k):\n",
        "    if k%i==0:\n",
        "     a=1\n",
        "     break\n",
        "    else:\n",
        "     a=0\n",
        "  if a==1:\n",
        "   l1.append(k)\n",
        "  else:\n",
        "   l2.append(k)\n",
        "\n",
        "print(\"not prime\",l1)\n",
        "print(\"prime\",l2)"
      ],
      "metadata": {
        "colab": {
          "base_uri": "https://localhost:8080/"
        },
        "id": "OXWCqMqwByX6",
        "outputId": "b97a8ec4-493c-4a7f-f524-43f48885327e"
      },
      "execution_count": 93,
      "outputs": [
        {
          "output_type": "stream",
          "name": "stdout",
          "text": [
            "not prime [600, 602, 603, 604, 605, 606, 608, 609, 610, 611, 612, 614, 615, 616, 618, 620, 621, 622, 623, 624, 625, 626, 627, 628, 629, 630, 632, 633, 634, 635, 636, 637, 638, 639, 640, 642, 644, 645, 646, 648, 649, 650, 651, 652, 654, 655, 656, 657, 658, 660, 662, 663, 664, 665, 666, 667, 668, 669, 670, 671, 672, 674, 675, 676, 678, 679, 680, 681, 682, 684, 685, 686, 687, 688, 689, 690, 692, 693, 694, 695, 696, 697, 698, 699, 700, 702, 703, 704, 705, 706, 707, 708, 710, 711, 712, 713, 714, 715, 716, 717, 718, 720, 721, 722, 723, 724, 725, 726, 728, 729, 730, 731, 732, 734, 735, 736, 737, 738, 740, 741, 742, 744, 745, 746, 747, 748, 749, 750, 752, 753, 754, 755, 756, 758, 759, 760, 762, 763, 764, 765, 766, 767, 768, 770, 771, 772, 774, 775, 776, 777, 778, 779, 780, 781, 782, 783, 784, 785, 786, 788, 789, 790, 791, 792, 793, 794, 795, 796, 798, 799, 800]\n",
            "prime [601, 607, 613, 617, 619, 631, 641, 643, 647, 653, 659, 661, 673, 677, 683, 691, 701, 709, 719, 727, 733, 739, 743, 751, 757, 761, 769, 773, 787, 797]\n"
          ]
        }
      ]
    },
    {
      "cell_type": "code",
      "source": [
        "import time\n",
        "\n",
        "start_time = time.time()\n",
        "\n",
        "\n",
        "for i in range(1000000):\n",
        "    pass\n",
        "\n",
        "end_time = time.time()\n",
        "\n",
        "\n",
        "print(\"Time taken:\", end_time - start_time, \"seconds\")\n"
      ],
      "metadata": {
        "id": "HUbQx-IKeVlu"
      },
      "execution_count": null,
      "outputs": []
    },
    {
      "cell_type": "code",
      "source": [
        "import time\n",
        "import random\n",
        "import matplotlib.pyplot as plt\n",
        "\n",
        "sizes = [5000, 10000, 15000, 20000, 25000]\n",
        "times = []\n",
        "\n",
        "for size in sizes:\n",
        "    data = [random.randint(1, 100000) for _ in range(size)]  # Generate random list\n",
        "    start = time.time()\n",
        "    sorted_data = sorted(data)\n",
        "    end = time.time()\n",
        "    duration = end - start\n",
        "    times.append(duration)\n",
        "    print(f\"Time to sort {size} elements: {duration:.5f} seconds\")\n",
        "\n",
        "# Plotting\n",
        "plt.plot(sizes, times, marker='o')\n",
        "plt.title(\"List Sorting Time\")\n",
        "plt.xlabel(\"Number of Elements\")\n",
        "plt.ylabel(\"Time Taken (seconds)\")\n",
        "plt.grid(True)\n",
        "plt.show()\n"
      ],
      "metadata": {
        "id": "ddJ-L8c9eeMV"
      },
      "execution_count": null,
      "outputs": []
    },
    {
      "cell_type": "code",
      "source": [
        "students = {\n",
        "    \"Alice\": [85, 90, 88, 92, 78],\n",
        "    \"Bob\": [70, 65, 72, 68, 75],\n",
        "    \"Charlie\": [95, 92, 90, 96, 94],\n",
        "    \"David\": [60, 58, 64, 62, 55],\n",
        "    \"Eve\": [80, 82, 84, 85, 81]\n",
        "}\n",
        "\n",
        "averages = {name: sum(marks)/len(marks) for name, marks in students.items()}\n",
        "\n",
        "# Finding max and min\n",
        "max_student = max(averages, key=averages.get)\n",
        "min_student = min(averages, key=averages.get)\n",
        "\n",
        "print(f\"Student with max average: {max_student} -> {averages[max_student]:.2f}\")\n",
        "print(f\"Student with min average: {min_student} -> {averages[min_student]:.2f}\")\n"
      ],
      "metadata": {
        "id": "hlTvhmJpe-Yw"
      },
      "execution_count": null,
      "outputs": []
    }
  ]
}